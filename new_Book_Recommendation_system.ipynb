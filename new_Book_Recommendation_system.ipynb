{
  "nbformat": 4,
  "nbformat_minor": 0,
  "metadata": {
    "colab": {
      "name": "new  Book Recommendation system ",
      "provenance": [],
      "include_colab_link": true
    },
    "kernelspec": {
      "name": "python3",
      "display_name": "Python 3"
    },
    "language_info": {
      "name": "python"
    }
  },
  "cells": [
    {
      "cell_type": "markdown",
      "metadata": {
        "id": "view-in-github",
        "colab_type": "text"
      },
      "source": [
        "<a href=\"https://colab.research.google.com/github/akashbhor1356/Book_Recommendation_system/blob/main/new_Book_Recommendation_system.ipynb\" target=\"_parent\"><img src=\"https://colab.research.google.com/assets/colab-badge.svg\" alt=\"Open In Colab\"/></a>"
      ]
    },
    {
      "cell_type": "markdown",
      "source": [
        "During the last few decades, with the rise of Youtube, Amazon, Netflix, and many other such\n",
        "web services, recommender systems have taken more and more place in our lives. From\n",
        "e-commerce (suggest to buyers articles that could interest them) to online advertisement\n",
        "(suggest to users the right contents, matching their preferences), recommender systems are\n",
        "today unavoidable in our daily online journeys.\n",
        "In a very general way, recommender systems are algorithms aimed at suggesting relevant\n",
        "items to users (items being movies to watch, text to read, products to buy, or anything else\n",
        "depending on industries).\n",
        "Recommender systems are really critical in some industries as they can generate a huge\n",
        "amount of income when they are efficient or also be a way to stand out significantly from\n",
        "competitors. The main objective is to create a book recommendation system for users.                                                                             \n",
        "              \n",
        "Content\n",
        "The Book-Crossing dataset comprises 3 files.\n",
        "\n",
        "● Users\n",
        "Contains the users. Note that user IDs (User-ID) have been anonymized and map to\n",
        "integers. Demographic data is provided (Location, Age) if available. Otherwise, these fields contain NULL values.\n",
        "\n",
        "● Books\n",
        "Books are identified by their respective ISBN. Invalid ISBNs have already been removed from the dataset. Moreover, some content-based information is given (Book-Title, Book-Author, Year-Of-Publication, Publisher), obtained from Amazon Web Services. Note that in the case of several authors, only the first is provided. URLs linking to cover images are also given, appearing in three different flavors (Image-URL-S, Image-URL-M, Image-URL-L), i.e., small, medium, large. These URLs point to the Amazon website.\n",
        "\n",
        "● Ratings\n",
        "Contains the book rating information. Ratings (Book-Rating) are either explicit,\n",
        "expressed on a scale from 1-10 (higher values denoting higher appreciation), or implicit,\n",
        "expressed by 0."
      ],
      "metadata": {
        "id": "nECFN7a2WJQS"
      }
    },
    {
      "cell_type": "markdown",
      "source": [
        "**Table of Contents**\n",
        "1. Importing Required libraries\n",
        "2. Popularity Based  Recommendation System\n",
        "3. Collaborative-based filtering\n",
        "4. KNN Model \n",
        "5. Collaborative filtering by using Cosine sililarity\n",
        "6. Conclusion\n",
        "\n",
        "\n",
        "\n"
      ],
      "metadata": {
        "id": "Ovxb8_WJXkR6"
      }
    },
    {
      "cell_type": "markdown",
      "source": [
        "##**1. Importing Required libraries**"
      ],
      "metadata": {
        "id": "rshKPAG0ZP33"
      }
    },
    {
      "cell_type": "code",
      "source": [
        "import pandas as pd\n",
        "import numpy as np\n",
        "import  matplotlib.pyplot as plt\n",
        "import seaborn as sns\n",
        "\n",
        "import warnings\n",
        "warnings.filterwarnings('ignore')\n",
        "\n",
        "import scipy\n",
        "import math\n",
        "import random\n",
        "import sklearn\n",
        "from nltk.corpus import stopwords\n",
        "from sklearn.model_selection import train_test_split\n",
        "from sklearn.feature_extraction.text import TfidfVectorizer\n",
        "from sklearn.preprocessing import normalize\n",
        "from sklearn.metrics.pairwise import cosine_similarity\n",
        "from scipy.sparse.linalg import svds"
      ],
      "metadata": {
        "id": "GpjEKX6UWiKG"
      },
      "execution_count": null,
      "outputs": []
    },
    {
      "cell_type": "code",
      "source": [
        "# importing data\n",
        "from google.colab import drive \n",
        "drive.mount('/content/drive')"
      ],
      "metadata": {
        "id": "39gseaGpWiUE"
      },
      "execution_count": null,
      "outputs": []
    },
    {
      "cell_type": "code",
      "source": [
        "# Read the health insurance data set \n",
        "books = pd.read_csv(\"/content/drive/MyDrive/capstone_project_4_book_recommendation_system/Books.csv\",low_memory='False')\n",
        "users = pd.read_csv(\"/content/drive/MyDrive/capstone_project_4_book_recommendation_system/Users.csv\",low_memory='False')\n",
        "ratings = pd.read_csv(\"/content/drive/MyDrive/capstone_project_4_book_recommendation_system/Ratings.csv\",low_memory='False')\n"
      ],
      "metadata": {
        "id": "YXXtQDOZWiWy"
      },
      "execution_count": null,
      "outputs": []
    },
    {
      "cell_type": "code",
      "source": [
        "books.head()"
      ],
      "metadata": {
        "id": "VWbNggglWiZf"
      },
      "execution_count": null,
      "outputs": []
    },
    {
      "cell_type": "code",
      "source": [
        "books['Image-URL-M'][0]"
      ],
      "metadata": {
        "id": "DU5c1ysyVKln"
      },
      "execution_count": null,
      "outputs": []
    },
    {
      "cell_type": "code",
      "source": [
        " users.head()"
      ],
      "metadata": {
        "id": "w4uYb1mtWicg"
      },
      "execution_count": null,
      "outputs": []
    },
    {
      "cell_type": "code",
      "source": [
        "ratings.head()"
      ],
      "metadata": {
        "id": "08Ct2HUiWigp"
      },
      "execution_count": null,
      "outputs": []
    },
    {
      "cell_type": "code",
      "source": [
        "print(books.shape)\n",
        "print(users.shape)\n",
        "print(ratings.shape)"
      ],
      "metadata": {
        "id": "KpapHC-2eGX2"
      },
      "execution_count": null,
      "outputs": []
    },
    {
      "cell_type": "markdown",
      "source": [
        "The dataset is reliable and can consider as a large dataset. we have 271360 books data and total registered users on the website are approximately 278858 and they have given near about 1149780  rating. hence we can say that the dataset we have is nice and reliable."
      ],
      "metadata": {
        "id": "xP9aPXtld6Yy"
      }
    },
    {
      "cell_type": "code",
      "source": [
        "books.isnull().sum()"
      ],
      "metadata": {
        "id": "Q_z81yjic1MZ"
      },
      "execution_count": null,
      "outputs": []
    },
    {
      "cell_type": "code",
      "source": [
        "users.isnull().sum()"
      ],
      "metadata": {
        "id": "7P_igWtOdDh8"
      },
      "execution_count": null,
      "outputs": []
    },
    {
      "cell_type": "markdown",
      "source": [
        "In our model we don't need to use Age feature "
      ],
      "metadata": {
        "id": "wNNEGG1bdmBp"
      }
    },
    {
      "cell_type": "code",
      "source": [
        "ratings.isnull().sum()"
      ],
      "metadata": {
        "id": "pTl9XmMNdJVU"
      },
      "execution_count": null,
      "outputs": []
    },
    {
      "cell_type": "code",
      "source": [
        "books.duplicated().sum()"
      ],
      "metadata": {
        "id": "tsPqjsuLdUHp"
      },
      "execution_count": null,
      "outputs": []
    },
    {
      "cell_type": "code",
      "source": [
        "users.duplicated().sum()"
      ],
      "metadata": {
        "id": "XdeeNWbddUfM"
      },
      "execution_count": null,
      "outputs": []
    },
    {
      "cell_type": "code",
      "source": [
        "ratings.duplicated().sum()"
      ],
      "metadata": {
        "id": "4K2bul_fddAE"
      },
      "execution_count": null,
      "outputs": []
    },
    {
      "cell_type": "markdown",
      "source": [
        "##**2.Popularity Based Recommender System**\n"
      ],
      "metadata": {
        "id": "dRcGNxPyeSQh"
      }
    },
    {
      "cell_type": "code",
      "source": [
        "rating_with_name = ratings.merge(books,on='ISBN')"
      ],
      "metadata": {
        "id": "k3wc8BayfB-c"
      },
      "execution_count": null,
      "outputs": []
    },
    {
      "cell_type": "code",
      "source": [
        "num_rating_df = rating_with_name.groupby('Book-Title').count()['Book-Rating'].reset_index()\n",
        "num_rating_df.rename(columns = {'Book-Rating':'num_rating'}, inplace=True)\n",
        "num_rating_df"
      ],
      "metadata": {
        "id": "mPKQQStUfCDp"
      },
      "execution_count": null,
      "outputs": []
    },
    {
      "cell_type": "code",
      "source": [
        "avg_rating_df = rating_with_name.groupby('Book-Title').mean()['Book-Rating'].reset_index()\n",
        "avg_rating_df.rename(columns = {'Book-Rating':'avg_rating'}, inplace=True)\n",
        "avg_rating_df"
      ],
      "metadata": {
        "id": "Mlwcxv4FfCH9"
      },
      "execution_count": null,
      "outputs": []
    },
    {
      "cell_type": "code",
      "source": [
        "popular_df = num_rating_df.merge(avg_rating_df,on='Book-Title')\n",
        "popular_df"
      ],
      "metadata": {
        "id": "iD6X_i4qfCMj"
      },
      "execution_count": null,
      "outputs": []
    },
    {
      "cell_type": "code",
      "source": [
        "popular_df=popular_df[popular_df['num_rating']>=250].sort_values('avg_rating',ascending=False).head(50)"
      ],
      "metadata": {
        "id": "13dibsIQfCQt"
      },
      "execution_count": null,
      "outputs": []
    },
    {
      "cell_type": "code",
      "source": [
        "popular_df = popular_df.merge(books,on='Book-Title').drop_duplicates('Book-Title')[['Book-Title','Book-Author','Image-URL-M','num_rating','avg_rating']]"
      ],
      "metadata": {
        "id": "F6AGuV30fCVx"
      },
      "execution_count": null,
      "outputs": []
    },
    {
      "cell_type": "code",
      "source": [
        "popular_df"
      ],
      "metadata": {
        "id": "-s2FtajvfCaJ"
      },
      "execution_count": null,
      "outputs": []
    },
    {
      "cell_type": "code",
      "source": [
        "popular_df['Image-URL-M'][0]"
      ],
      "metadata": {
        "id": "W9NJe8sAfCeo"
      },
      "execution_count": null,
      "outputs": []
    },
    {
      "cell_type": "markdown",
      "source": [
        "##**3.ollaborative Filtering Based Recommender System**"
      ],
      "metadata": {
        "id": "VTV6Dm4ZkAJ2"
      }
    },
    {
      "cell_type": "code",
      "source": [
        "books.rename(columns = {'Book-Title':'title', 'Book-Author':'author', 'Year-Of-Publication':'year', 'Publisher':'publisher'}, inplace=True)\n",
        "users.rename(columns = {'User-ID':'user_id', 'Location':'location', 'Age':'age'}, inplace=True)\n",
        "ratings.rename(columns = {'User-ID':'user_id', 'Book-Rating':'rating'}, inplace=True)"
      ],
      "metadata": {
        "id": "qmR8DZUZOqBJ"
      },
      "execution_count": null,
      "outputs": []
    },
    {
      "cell_type": "code",
      "source": [
        "books.columns\n"
      ],
      "metadata": {
        "id": "ekP-Bh8pWe3P"
      },
      "execution_count": null,
      "outputs": []
    },
    {
      "cell_type": "code",
      "source": [
        "books=books[['ISBN', 'title', 'author', 'year', 'publisher','Image-URL-M']]"
      ],
      "metadata": {
        "id": "EcAelVt9CPTg"
      },
      "execution_count": null,
      "outputs": []
    },
    {
      "cell_type": "code",
      "source": [
        "books.head()"
      ],
      "metadata": {
        "id": "NcmHSBaMXLeu"
      },
      "execution_count": null,
      "outputs": []
    },
    {
      "cell_type": "code",
      "source": [
        "# Merging Dataframes\n",
        "# temp_df = books.merge(ratings, how='left', on='ISBN')\n",
        "# final_df = temp_df.merge(users, how='left', on='user_id')\n",
        "# final_df.shape"
      ],
      "metadata": {
        "id": "dvF94W83ShgT"
      },
      "execution_count": null,
      "outputs": []
    },
    {
      "cell_type": "markdown",
      "source": [
        "Each User How many times rating"
      ],
      "metadata": {
        "id": "EwPLbs1fDobf"
      }
    },
    {
      "cell_type": "code",
      "source": [
        "ratings['user_id'].value_counts()"
      ],
      "metadata": {
        "id": "O2to6EG9CP3o"
      },
      "execution_count": null,
      "outputs": []
    },
    {
      "cell_type": "code",
      "source": [
        "ratings['user_id'].value_counts().shape"
      ],
      "metadata": {
        "id": "OLL7zFhNCP7S"
      },
      "execution_count": null,
      "outputs": []
    },
    {
      "cell_type": "code",
      "source": [
        "x = ratings['user_id'].value_counts()>200"
      ],
      "metadata": {
        "id": "L2mnkSaLCP-k"
      },
      "execution_count": null,
      "outputs": []
    },
    {
      "cell_type": "code",
      "source": [
        "y =x[x].index"
      ],
      "metadata": {
        "id": "Gz6ZnfU2CQBm"
      },
      "execution_count": null,
      "outputs": []
    },
    {
      "cell_type": "code",
      "source": [
        "y"
      ],
      "metadata": {
        "id": "GlRiCv5WQY5k"
      },
      "execution_count": null,
      "outputs": []
    },
    {
      "cell_type": "code",
      "source": [
        "ratings = ratings[ratings['user_id'].isin(y)]"
      ],
      "metadata": {
        "id": "vv3QUWCgRK97"
      },
      "execution_count": null,
      "outputs": []
    },
    {
      "cell_type": "code",
      "source": [
        "ratings.shape"
      ],
      "metadata": {
        "id": "fwBEEpcSRcLn"
      },
      "execution_count": null,
      "outputs": []
    },
    {
      "cell_type": "code",
      "source": [
        "books.head()"
      ],
      "metadata": {
        "id": "t_L0NOIJPqpF"
      },
      "execution_count": null,
      "outputs": []
    },
    {
      "cell_type": "code",
      "source": [
        "rating_with_books = ratings.merge( books, on = 'ISBN')"
      ],
      "metadata": {
        "id": "iJ6Of5YSRdyD"
      },
      "execution_count": null,
      "outputs": []
    },
    {
      "cell_type": "code",
      "source": [
        "rating_with_books.shape"
      ],
      "metadata": {
        "id": "KEibAt8DTGc5"
      },
      "execution_count": null,
      "outputs": []
    },
    {
      "cell_type": "code",
      "source": [
        "number_rating = rating_with_books.groupby('title')['rating'].count().reset_index()"
      ],
      "metadata": {
        "id": "XesWAduMTHEj"
      },
      "execution_count": null,
      "outputs": []
    },
    {
      "cell_type": "code",
      "source": [
        "number_rating.rename(columns={'rating':'number_of_rating'},inplace=True)"
      ],
      "metadata": {
        "id": "CN4-7bw4U203"
      },
      "execution_count": null,
      "outputs": []
    },
    {
      "cell_type": "code",
      "source": [
        "number_rating.head()"
      ],
      "metadata": {
        "id": "qaD_Ecu6VEGy"
      },
      "execution_count": null,
      "outputs": []
    },
    {
      "cell_type": "code",
      "source": [
        "final_rating = rating_with_books.merge(number_rating,on = 'title')"
      ],
      "metadata": {
        "id": "GGMkLKcmVbhS"
      },
      "execution_count": null,
      "outputs": []
    },
    {
      "cell_type": "code",
      "source": [
        "final_rating.head()"
      ],
      "metadata": {
        "id": "u13uUre0V7p6"
      },
      "execution_count": null,
      "outputs": []
    },
    {
      "cell_type": "code",
      "source": [
        "final_rating.shape"
      ],
      "metadata": {
        "id": "Smlm7onuYnFx"
      },
      "execution_count": null,
      "outputs": []
    },
    {
      "cell_type": "markdown",
      "source": [
        "who has rating above or equal to 50 those books only consider "
      ],
      "metadata": {
        "id": "7XFMW31u_bm4"
      }
    },
    {
      "cell_type": "code",
      "source": [
        "final_rating=final_rating[final_rating ['number_of_rating']>=50]"
      ],
      "metadata": {
        "id": "VEEjXLx0V_Gx"
      },
      "execution_count": null,
      "outputs": []
    },
    {
      "cell_type": "code",
      "source": [
        "final_rating.shape"
      ],
      "metadata": {
        "id": "Qelzo9g9YKcT"
      },
      "execution_count": null,
      "outputs": []
    },
    {
      "cell_type": "code",
      "source": [
        "final_rating.drop_duplicates(['user_id','title'],inplace = True)"
      ],
      "metadata": {
        "id": "r8wksiKLYcZB"
      },
      "execution_count": null,
      "outputs": []
    },
    {
      "cell_type": "code",
      "source": [
        "final_rating.shape"
      ],
      "metadata": {
        "id": "KAhyGlIWZXqa"
      },
      "execution_count": null,
      "outputs": []
    },
    {
      "cell_type": "code",
      "source": [
        "plt.rc(\"font\",size =15)\n",
        "final_rating.number_of_rating.value_counts(sort=False).plot(kind='bar')\n",
        "plt.title('Rating Distribution')\n",
        "plt.xlabel(\"Rating\")\n",
        "plt.ylabel(\"Count\")\n",
        "plt.savefig(\"system1.png\",bbox_inches='tight')\n",
        "plt.show()"
      ],
      "metadata": {
        "id": "8b7vWR4FLkYM"
      },
      "execution_count": null,
      "outputs": []
    },
    {
      "cell_type": "code",
      "source": [
        "# from google.colab import files\n",
        "# final_rating.to_csv('final_rating.csv') \n",
        "# files.download('final_rating.csv')"
      ],
      "metadata": {
        "id": "hUikTTO62YaI"
      },
      "execution_count": null,
      "outputs": []
    },
    {
      "cell_type": "markdown",
      "source": [
        "Creating pivot table to show  the users rating on a every books"
      ],
      "metadata": {
        "id": "ytmNV-zO_7ml"
      }
    },
    {
      "cell_type": "code",
      "source": [
        "book_pivot = final_rating.pivot_table(columns='user_id',index = 'title',values = 'rating')"
      ],
      "metadata": {
        "id": "KOSRe7XvZvKq"
      },
      "execution_count": null,
      "outputs": []
    },
    {
      "cell_type": "code",
      "source": [
        "book_pivot"
      ],
      "metadata": {
        "id": "qeHuk1zKaT3g"
      },
      "execution_count": null,
      "outputs": []
    },
    {
      "cell_type": "code",
      "source": [
        "book_pivot.shape"
      ],
      "metadata": {
        "id": "erGJBf9jaWJ4"
      },
      "execution_count": null,
      "outputs": []
    },
    {
      "cell_type": "markdown",
      "source": [
        "finally books remaining 742 and users is 888 but\n",
        "\n",
        " what about NaN values fill that NaN values"
      ],
      "metadata": {
        "id": "M9-dwq4Iauho"
      }
    },
    {
      "cell_type": "code",
      "source": [
        "book_pivot.fillna(0,inplace=True)"
      ],
      "metadata": {
        "id": "ggmLsnW7al3C"
      },
      "execution_count": null,
      "outputs": []
    },
    {
      "cell_type": "code",
      "source": [
        "book_pivot"
      ],
      "metadata": {
        "id": "qw5SCHNybKeX"
      },
      "execution_count": null,
      "outputs": []
    },
    {
      "cell_type": "markdown",
      "source": [
        "because of so many zeroes if we calculate distances then so many time will taken so we use sparse matrix to simplify our distance calculation for k nearest neighbour algorithm"
      ],
      "metadata": {
        "id": "8Bq6MzcDcRaH"
      }
    },
    {
      "cell_type": "code",
      "source": [],
      "metadata": {
        "id": "qHVCPNgLkvsC"
      },
      "execution_count": null,
      "outputs": []
    },
    {
      "cell_type": "code",
      "source": [
        "from scipy.sparse import  csr_matrix"
      ],
      "metadata": {
        "id": "_ytnyq5gbVAH"
      },
      "execution_count": null,
      "outputs": []
    },
    {
      "cell_type": "code",
      "source": [
        "book_sparse = csr_matrix(book_pivot)"
      ],
      "metadata": {
        "id": "mEuDpivYb8wg"
      },
      "execution_count": null,
      "outputs": []
    },
    {
      "cell_type": "code",
      "source": [
        "type(book_sparse)"
      ],
      "metadata": {
        "id": "wEXJlmC2cq3e"
      },
      "execution_count": null,
      "outputs": []
    },
    {
      "cell_type": "code",
      "source": [
        "book_sparse"
      ],
      "metadata": {
        "id": "o7cqYvuLAurr"
      },
      "execution_count": null,
      "outputs": []
    },
    {
      "cell_type": "markdown",
      "source": [
        "##**4.K Nearest Neighbors**"
      ],
      "metadata": {
        "id": "qU9oxhb424V6"
      }
    },
    {
      "cell_type": "code",
      "source": [
        "from sklearn.neighbors import NearestNeighbors"
      ],
      "metadata": {
        "id": "aCHnxTKTcrCb"
      },
      "execution_count": null,
      "outputs": []
    },
    {
      "cell_type": "code",
      "source": [
        "model = NearestNeighbors(algorithm = 'brute')"
      ],
      "metadata": {
        "id": "pgQX79UJcrF6"
      },
      "execution_count": null,
      "outputs": []
    },
    {
      "cell_type": "code",
      "source": [
        "model.fit(book_sparse)"
      ],
      "metadata": {
        "id": "8XW1128gcrPe"
      },
      "execution_count": null,
      "outputs": []
    },
    {
      "cell_type": "code",
      "source": [
        "distances,suggestions = model.kneighbors(book_pivot.iloc[54, :].values.reshape(1,-1),n_neighbors = 6)"
      ],
      "metadata": {
        "id": "0xIMob5_dY-X"
      },
      "execution_count": null,
      "outputs": []
    },
    {
      "cell_type": "code",
      "source": [
        "distances"
      ],
      "metadata": {
        "id": "BtqzUsUdRdgM"
      },
      "execution_count": null,
      "outputs": []
    },
    {
      "cell_type": "code",
      "source": [
        "suggestions"
      ],
      "metadata": {
        "id": "wXIHe3a1St4B"
      },
      "execution_count": null,
      "outputs": []
    },
    {
      "cell_type": "code",
      "source": [
        "for i in range (len(suggestions)):\n",
        "  print(book_pivot.index[suggestions[i]])"
      ],
      "metadata": {
        "id": "IqT8TG4US3zF"
      },
      "execution_count": null,
      "outputs": []
    },
    {
      "cell_type": "code",
      "source": [
        "np.where(book_pivot.index=='Message in a Bottle')[0][0]"
      ],
      "metadata": {
        "id": "AQlE_gBnT0fH"
      },
      "execution_count": null,
      "outputs": []
    },
    {
      "cell_type": "code",
      "source": [
        "def recommend_book(book_name):\n",
        "  book_id = np.where(book_pivot.index==book_name)[0][0]\n",
        "  distances,suggestions = model.kneighbors(book_pivot.iloc[book_id, :].values.reshape(1,-1),n_neighbors = 6)\n",
        "  for i in range (len(suggestions)):\n",
        "    \n",
        "      print(book_pivot.index[suggestions[i][1:5]])\n",
        "\n"
      ],
      "metadata": {
        "id": "qtUGivi1W_eo"
      },
      "execution_count": null,
      "outputs": []
    },
    {
      "cell_type": "code",
      "source": [
        "recommend_book('Message in a Bottle')"
      ],
      "metadata": {
        "id": "nfLqwsDuY7CW"
      },
      "execution_count": null,
      "outputs": []
    },
    {
      "cell_type": "code",
      "source": [],
      "metadata": {
        "id": "za51oVevJiEO"
      },
      "execution_count": null,
      "outputs": []
    },
    {
      "cell_type": "markdown",
      "source": [
        "##**5.Cosine Similarity**"
      ],
      "metadata": {
        "id": "r2psAm2zffl3"
      }
    },
    {
      "cell_type": "code",
      "source": [
        "from sklearn.neighbors import NearestNeighbors\n",
        "\n",
        "\n",
        "model_knn = NearestNeighbors(metric = 'cosine', algorithm = 'brute')\n",
        "model_knn.fit(book_sparse)"
      ],
      "metadata": {
        "id": "dp7E_9tYJiIR"
      },
      "execution_count": null,
      "outputs": []
    },
    {
      "cell_type": "code",
      "source": [
        "def recommend_books(book_name):\n",
        "  query_index = np.where(book_pivot.index==book_name)[0][0]\n",
        "  print(query_index)\n",
        "  distances, indices = model_knn.kneighbors(book_pivot.iloc[query_index,:].values.reshape(1, -1), n_neighbors = 6)\n",
        "  for i in range(0, len(distances.flatten())):\n",
        "    if i == 0:\n",
        "        print('Recommendations for {0}:\\n'.format(book_pivot.index[query_index]))\n",
        "    else:\n",
        "        print('{0}: {1}, with distance of {2}:'.format(i,book_pivot.index[indices.flatten()[i]], distances.flatten()[i]))\n"
      ],
      "metadata": {
        "id": "w5Fg9NVnJiO3"
      },
      "execution_count": null,
      "outputs": []
    },
    {
      "cell_type": "code",
      "source": [
        "recommend_books('Naked')"
      ],
      "metadata": {
        "id": "0c2ULcfSDeMl"
      },
      "execution_count": null,
      "outputs": []
    },
    {
      "cell_type": "code",
      "source": [
        "from sklearn.metrics.pairwise import cosine_similarity"
      ],
      "metadata": {
        "id": "l9MktpVoj7y_"
      },
      "execution_count": null,
      "outputs": []
    },
    {
      "cell_type": "code",
      "source": [
        "similarity_scores = cosine_similarity(book_pivot)"
      ],
      "metadata": {
        "id": "c9LZfDOYj-qy"
      },
      "execution_count": null,
      "outputs": []
    },
    {
      "cell_type": "code",
      "source": [
        "similarity_scores.shape"
      ],
      "metadata": {
        "id": "hri-J3-dj-xA"
      },
      "execution_count": null,
      "outputs": []
    },
    {
      "cell_type": "code",
      "source": [
        "def recommend(book_name):\n",
        "    # index fetch\n",
        "    index = np.where(book_pivot.index==book_name)[0][0]\n",
        "    similar_items = sorted(list(enumerate(similarity_scores[index])),key=lambda x:x[1],reverse=True)[1:6]\n",
        "    \n",
        "    data = []\n",
        "    for i in similar_items:\n",
        "        item = []\n",
        "        temp_df = final_rating[final_rating['title'] == book_pivot.index[i[0]]]\n",
        "        item.extend(list(temp_df.drop_duplicates('title')['title'].values))\n",
        "        item.extend(list(temp_df.drop_duplicates('title')['author'].values))\n",
        "        item.extend(list(temp_df.drop_duplicates('title')['Image-URL-M'].values))\n",
        "        \n",
        "        data.append(item)\n",
        "    \n",
        "    return data"
      ],
      "metadata": {
        "id": "1T-VhbuOj-20"
      },
      "execution_count": null,
      "outputs": []
    },
    {
      "cell_type": "code",
      "source": [
        "recommend('1984')"
      ],
      "metadata": {
        "id": "V6ES3wIuj-7c"
      },
      "execution_count": null,
      "outputs": []
    },
    {
      "cell_type": "code",
      "source": [],
      "metadata": {
        "id": "hbZWFEtAj-_Y"
      },
      "execution_count": null,
      "outputs": []
    },
    {
      "cell_type": "code",
      "source": [
        "import pickle\n",
        "pickle.dump(popular_df,open('popular.pkl','wb'))"
      ],
      "metadata": {
        "id": "UYU4LCvRZAv0"
      },
      "execution_count": null,
      "outputs": []
    },
    {
      "cell_type": "code",
      "source": [
        "# from google.colab import files\n",
        "# files.download('popular.pkl')"
      ],
      "metadata": {
        "id": "IqbNN-IdlvjK"
      },
      "execution_count": null,
      "outputs": []
    },
    {
      "cell_type": "code",
      "source": [
        "pickle.dump(book_pivot,open('book_pivot.pkl','wb'))\n",
        "pickle.dump(final_rating,open('final_rating.pkl','wb'))\n",
        "pickle.dump(similarity_scores,open('similarity_scores.pkl','wb'))"
      ],
      "metadata": {
        "id": "IKEZ-HYCmKLf"
      },
      "execution_count": null,
      "outputs": []
    },
    {
      "cell_type": "code",
      "source": [
        "# from google.colab import files\n",
        "# files.download('book_pivot.pkl')\n",
        "# files.download('final_rating.pkl')\n",
        "# files.download('similarity_scores.pkl')\n"
      ],
      "metadata": {
        "id": "01iI8lLMnvkJ"
      },
      "execution_count": null,
      "outputs": []
    },
    {
      "cell_type": "code",
      "source": [
        "# pickle.dump(recommend_book.to_dict(),open('books_dict.pkl','wb'))"
      ],
      "metadata": {
        "id": "FWkIdWusn4tz"
      },
      "execution_count": null,
      "outputs": []
    },
    {
      "cell_type": "markdown",
      "source": [
        "##**6.Conclusion**"
      ],
      "metadata": {
        "id": "UoRAGLSsatdO"
      }
    },
    {
      "cell_type": "markdown",
      "source": [
        "This project provides an introduction to recommender systems. In the context of ever-increasing amounts of available information and data, it is difficult to know what information to look for and where to look for it. Computer-based techniques have been developed to facilitate the search and retrieval process; one of these techniques is recommendation, which guides users in their exploration of available information by seeking and highlighting the most relevant information.\n",
        "\n",
        "Recommender systems have their origins in a variety of areas of research, including information retrieval, information filtering, text classification, etc. They use techniques such as machine learning and data mining, alongside a range of concepts including algorithms, collaborative and hybrid approaches, and evaluation methods.\n",
        "\n",
        "Having first presented the notions inherent in data- and information-handling systems (information systems, decision support systems and recommender systems) and established a clear distinction between recommendation and personalization, we then presented the most widespread approaches used in producing recommendations for users (Popularity Based filtering, collaborative filtering approaches). \n",
        "we have done EDA, null values treatment, creating new columns, Use popularity based filtering and collaborative filtering and then model building of KNN by using Cosine similarity.\n",
        "In all of these models our accuracy to give us better recommendations to show Top 50 Books and recommend on the basis of similarity shows top 5 books.\n"
      ],
      "metadata": {
        "id": "98u-_wKIRgDS"
      }
    }
  ]
}